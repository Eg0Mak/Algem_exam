{
 "cells": [
  {
   "cell_type": "code",
   "execution_count": 1,
   "id": "bd9ced79-a498-4206-b665-222cf1f49ddb",
   "metadata": {},
   "outputs": [],
   "source": [
    "import numpy as np\n",
    "from sympy import *\n",
    "from sympy.combinatorics import Permutation\n",
    "init_printing()"
   ]
  },
  {
   "cell_type": "markdown",
   "id": "dab6cfbc-8a4c-49de-817f-e78981e5b7e7",
   "metadata": {
    "jp-MarkdownHeadingCollapsed": true
   },
   "source": [
    "### Найдите значение параметра $a$, при котором система имеет единственное решение"
   ]
  },
  {
   "cell_type": "code",
   "execution_count": 6,
   "id": "e81d1330-f8ed-4831-b3a2-cc9392e0cb39",
   "metadata": {},
   "outputs": [
    {
     "data": {
      "image/png": "[encoded data removed]",
      "text/latex": [
       "$\\displaystyle \\left[ \\frac{17}{2}\\right]$"
      ],
      "text/plain": [
       "[17/2]"
      ]
     },
     "execution_count": 6,
     "metadata": {},
     "output_type": "execute_result"
    }
   ],
   "source": [
    "a = symbols(\"a\")\n",
    "A = Matrix(4,3,[6,6,6,2,8,4,7,8,7,2,5,4])\n",
    "B = Matrix([3,a,5,4])\n",
    "AB = Matrix([[A, B]])\n",
    "res = solve(AB.echelon_form()[3,3])\n",
    "res"
   ]
  },
  {
   "cell_type": "markdown",
   "id": "e0c8ecfe-50fd-431b-887d-929f1c21100f",
   "metadata": {
    "jp-MarkdownHeadingCollapsed": true
   },
   "source": [
    "### Выразить $y$"
   ]
  },
  {
   "cell_type": "code",
   "execution_count": 48,
   "id": "8c017a94-f972-4e66-9442-e8542d60578d",
   "metadata": {},
   "outputs": [
    {
     "data": {
      "text/latex": [
       "$\\displaystyle \\left[\\begin{matrix}1 & 0 & 0 & 6455 & 2337\\\\0 & 1 & 0 & 4174 & 1511\\\\0 & 0 & 1 & -5982 & -2165\\end{matrix}\\right]$"
      ],
      "text/plain": [
       "⎡1  0  0  6455   2337 ⎤\n",
       "⎢                     ⎥\n",
       "⎢0  1  0  4174   1511 ⎥\n",
       "⎢                     ⎥\n",
       "⎣0  0  1  -5982  -2165⎦"
      ]
     },
     "execution_count": 48,
     "metadata": {},
     "output_type": "execute_result"
    }
   ],
   "source": [
    "A = Matrix(3,4,[16,31,54,30,15,29,58,35,33,10,21,13])\n",
    "B = Matrix([41,44,26])\n",
    "AB = Matrix([[A, B]])\n",
    "AB = AB.elementary_col_op(\"n<->m\", col1=0, col2=3)\n",
    "AB.rref()[0]"
   ]
  },
  {
   "cell_type": "markdown",
   "id": "9c39753c-024f-45f6-837b-6939de4f4dbc",
   "metadata": {},
   "source": [
    "$y = 1511 - 4174x$"
   ]
  },
  {
   "cell_type": "markdown",
   "id": "a3d1c384-9816-4f1d-9632-81b4b5f01886",
   "metadata": {
    "jp-MarkdownHeadingCollapsed": true
   },
   "source": [
    "### Геометрия на плоскости"
   ]
  },
  {
   "cell_type": "code",
   "execution_count": 313,
   "id": "0cb558e3-c681-42be-941f-451e367f34fa",
   "metadata": {},
   "outputs": [
    {
     "data": {
      "image/png": "[encoded data removed]",
      "text/latex": [
       "$\\displaystyle \\left( 5.20630372492837, \\  34.0573065902579, \\  37.1489682935099\\right)$"
      ],
      "text/plain": [
       "(5.20630372492837, 34.0573065902579, 37.1489682935099)"
      ]
     },
     "execution_count": 313,
     "metadata": {},
     "output_type": "execute_result"
    }
   ],
   "source": [
    "A = Point(41, 44)\n",
    "B = Point(13, 6)\n",
    "C = Point(3, 42)\n",
    "\n",
    "# Уравнение прямой BC\n",
    "line_BC = Line(B, C)\n",
    "\n",
    "# Перпендикуляр из точки A на прямую BC, находящий ближайшую точку D\n",
    "D = line_BC.projection(A)\n",
    "\n",
    "# Координаты точки D\n",
    "x_D, y_D = D.coordinates\n",
    "\n",
    "# Расстояние от A до D\n",
    "R = A.distance(D)\n",
    "\n",
    "x_D.evalf(), y_D.evalf(), R.evalf()"
   ]
  },
  {
   "cell_type": "markdown",
   "id": "35e576b8-092a-4eb7-bca8-2228e0310678",
   "metadata": {
    "jp-MarkdownHeadingCollapsed": true
   },
   "source": [
    "### Произведение Кронекера и след матрицы"
   ]
  },
  {
   "cell_type": "code",
   "execution_count": 9,
   "id": "fb755a35-5b21-4de5-b918-65404ce9db58",
   "metadata": {},
   "outputs": [
    {
     "data": {
      "image/png": "[encoded data removed]",
      "text/latex": [
       "$\\displaystyle \\left( 73, \\  5329\\right)$"
      ],
      "text/plain": [
       "(73, 5329)"
      ]
     },
     "execution_count": 9,
     "metadata": {},
     "output_type": "execute_result"
    }
   ],
   "source": [
    "A = Matrix(2, 3, [2,4,4,8,6,3])\n",
    "B = Matrix(2, 3, [1,4,3,2,2,5])\n",
    "C = A.T * B\n",
    "D = A * B.T\n",
    "K = Matrix(np.kron(C, D))\n",
    "\n",
    "trace(C), trace(K)"
   ]
  },
  {
   "cell_type": "markdown",
   "id": "bddbfac2-b11d-434a-be41-61834d9fd92a",
   "metadata": {
    "jp-MarkdownHeadingCollapsed": true
   },
   "source": [
    "### Перестановки"
   ]
  },
  {
   "cell_type": "code",
   "execution_count": 87,
   "id": "f030ac96-b3f3-4ef7-871c-0474bdeda21f",
   "metadata": {},
   "outputs": [
    {
     "data": {
      "image/png": "[encoded data removed]",
      "text/latex": [
       "$\\displaystyle \\left( 4, \\  6\\right)$"
      ],
      "text/plain": [
       "(4, 6)"
      ]
     },
     "execution_count": 87,
     "metadata": {},
     "output_type": "execute_result"
    }
   ],
   "source": [
    "n = 12\n",
    "sigma_list = [1, 12, 8, 4, 5, 3, 6, 9, 10, 7, 11, 2]\n",
    "\n",
    "sigma = Permutation([i-1 for i in sigma_list])\n",
    "A = PermutationMatrix(sigma).as_explicit()\n",
    "\n",
    "A3 = A**3\n",
    "\n",
    "m = 1\n",
    "while True:\n",
    "    if trace(A**m) == 12:\n",
    "        break\n",
    "    m += 1\n",
    "\n",
    "trace(A3), m"
   ]
  },
  {
   "cell_type": "markdown",
   "id": "d619dc6a-33ee-4b0c-9d25-fe5d5335b5fd",
   "metadata": {
    "jp-MarkdownHeadingCollapsed": true
   },
   "source": [
    "### Запишите определитель в виде многочлена"
   ]
  },
  {
   "cell_type": "code",
   "execution_count": 90,
   "id": "2ce4da88-167b-46a8-9707-c97a4c72f80c",
   "metadata": {},
   "outputs": [
    {
     "data": {
      "image/png": "[encoded data removed]",
      "text/latex": [
       "$\\displaystyle - 32 x^{2} + 343 x - 783$"
      ],
      "text/plain": [
       "      2              \n",
       "- 32⋅x  + 343⋅x - 783"
      ]
     },
     "execution_count": 90,
     "metadata": {},
     "output_type": "execute_result"
    }
   ],
   "source": [
    "x = symbols(\"x\")\n",
    "M = Matrix(4,4,[7,5,3,3,6,9,x,6,6,1,6,7,x,2,3,4])\n",
    "\n",
    "expand(simplify(M.det()))"
   ]
  },
  {
   "cell_type": "markdown",
   "id": "5fa0186b-cb03-4418-8277-e4e0d71eda71",
   "metadata": {
    "jp-MarkdownHeadingCollapsed": true
   },
   "source": [
    "### При каком $t$ матрица содержит столбец, являющийся линейной комбинацией других столбцов"
   ]
  },
  {
   "cell_type": "code",
   "execution_count": 93,
   "id": "eba5c636-a8de-4f94-81b3-0ddc8844276c",
   "metadata": {},
   "outputs": [
    {
     "data": {
      "text/latex": [
       "$\\displaystyle \\left[\\begin{matrix}91 & 168 & 9 t + 76 & 148\\\\47 & 106 & 5 t + 63 & 95\\\\65 & 94 & 48 & 52\\\\52 & 80 & 7 t + 37 & 131\\end{matrix}\\right]$"
      ],
      "text/plain": [
       "⎡91  168  9⋅t + 76  148⎤\n",
       "⎢                      ⎥\n",
       "⎢47  106  5⋅t + 63  95 ⎥\n",
       "⎢                      ⎥\n",
       "⎢65  94      48     52 ⎥\n",
       "⎢                      ⎥\n",
       "⎣52  80   7⋅t + 37  131⎦"
      ]
     },
     "execution_count": 93,
     "metadata": {},
     "output_type": "execute_result"
    }
   ],
   "source": [
    "t = symbols(\"t\")\n",
    "A = Matrix(4,4,[8,9,7,9,7,8,2,5,1,8,5,0,9,1,5,7])\n",
    "B = Matrix(4,4,[1,0,3,9,3,8,5,1,8,6,1,7,0,6,t,2])\n",
    "C = A*B\n",
    "C"
   ]
  },
  {
   "cell_type": "markdown",
   "id": "9ba8810a-b3c4-4754-8cd7-51760a064478",
   "metadata": {},
   "source": [
    "* Если det = 0 (для квадратной матрицы), то столбцы линейно зависимы\n",
    "* Если не квадратная, то rank < n, где n - число столбцов"
   ]
  },
  {
   "cell_type": "code",
   "execution_count": 96,
   "id": "ddce08c4-a9b8-4bcd-87cd-93dc03cfdc57",
   "metadata": {},
   "outputs": [
    {
     "data": {
      "image/png": "[encoded data removed]",
      "text/latex": [
       "$\\displaystyle \\left[ \\frac{587}{91}\\right]$"
      ],
      "text/plain": [
       "⎡587⎤\n",
       "⎢───⎥\n",
       "⎣91 ⎦"
      ]
     },
     "execution_count": 96,
     "metadata": {},
     "output_type": "execute_result"
    }
   ],
   "source": [
    "solve(C.det())"
   ]
  },
  {
   "cell_type": "markdown",
   "id": "340606db-c557-4228-ba53-e49375cdbcef",
   "metadata": {
    "jp-MarkdownHeadingCollapsed": true
   },
   "source": [
    "### Матрицы $S$ и $B$"
   ]
  },
  {
   "cell_type": "code",
   "execution_count": 98,
   "id": "1673688c-01dc-4fa0-a900-6e05caf8812d",
   "metadata": {},
   "outputs": [
    {
     "data": {
      "image/png": "[encoded data removed]",
      "text/latex": [
       "$\\displaystyle \\left( 5.04530483268067, \\  5.04697700283278, \\  90\\right)$"
      ],
      "text/plain": [
       "(5.04530483268067, 5.04697700283278, 90)"
      ]
     },
     "execution_count": 98,
     "metadata": {},
     "output_type": "execute_result"
    }
   ],
   "source": [
    "y = 0.103\n",
    "\n",
    "A = Matrix(2,2,[7*y, 3*y, 2*y, 5*y])\n",
    "I = eye(2)\n",
    "\n",
    "\n",
    "def Matrix_s(m, n):\n",
    "    S = zeros(2)\n",
    "    for i in range(m, n+1):\n",
    "        S += A**i\n",
    "    return S\n",
    "\n",
    "S = Matrix_s(2,70)\n",
    "B = (I - A).inv() * A**2\n",
    "\n",
    "tollerance = 0.0002\n",
    "found_k = None\n",
    "for k in range(1, 1000):\n",
    "    all_bellow_tollerance = True\n",
    "    for n in range(k+1, k+50):\n",
    "        S_kn = Matrix_s(k, n)\n",
    "        if np.max(S_kn) >= tollerance:\n",
    "            all_bellow_tollerance = False\n",
    "    if all_bellow_tollerance:\n",
    "        found_k = k\n",
    "        break\n",
    "\n",
    "max(S), max(B), found_k"
   ]
  },
  {
   "cell_type": "markdown",
   "id": "6f212782-8d23-445c-8b10-79fb12cdeac5",
   "metadata": {
    "jp-MarkdownHeadingCollapsed": true
   },
   "source": [
    "### Комплексный корень лямбда из 1 степени 15"
   ]
  },
  {
   "cell_type": "code",
   "execution_count": 3,
   "id": "e084c060-6a3b-4a44-b568-e992e2be8381",
   "metadata": {},
   "outputs": [
    {
     "data": {
      "image/png": "[encoded data removed]",
      "text/latex": [
       "$\\displaystyle \\left( 33.6316760980701, \\  5.623984542387\\right)$"
      ],
      "text/plain": [
       "(33.631676098070066, 5.623984542386997)"
      ]
     },
     "execution_count": 3,
     "metadata": {},
     "output_type": "execute_result"
    }
   ],
   "source": [
    "A = np.array([[8, 5], [2, 4]])\n",
    "I = np.eye(2)\n",
    "\n",
    "\n",
    "n = 15\n",
    "roots = [np.exp(2j * np.pi * k / n) for k in range(n)]\n",
    "lam = max((z for z in roots if im(z) > 0), key=lambda z: re(z))\n",
    "\n",
    "matrix = A + lam*I\n",
    "\n",
    "det = np.linalg.det(matrix)\n",
    "\n",
    "det.real, det.imag"
   ]
  },
  {
   "cell_type": "markdown",
   "id": "e433f737-37df-471f-8397-5b067de3d0a2",
   "metadata": {
    "jp-MarkdownHeadingCollapsed": true
   },
   "source": [
    "### Корни многочлена"
   ]
  },
  {
   "cell_type": "code",
   "execution_count": 145,
   "id": "4e1f1a6b-dd93-4b62-9ed7-13e11d184da9",
   "metadata": {},
   "outputs": [
    {
     "data": {
      "image/png": "[encoded data removed]",
      "text/latex": [
       "$\\displaystyle \\left( 13.0588938474, \\  0.904753752213\\right)$"
      ],
      "text/plain": [
       "(13.0588938474, 0.904753752213)"
      ]
     },
     "execution_count": 145,
     "metadata": {},
     "output_type": "execute_result"
    }
   ],
   "source": [
    "x = Symbol(\"x\", dtype=complex)\n",
    "p = x**12 - x**11 + 2*x**10 + x**9 - x**8 - x**7 + x**6 + x**5 - x**4 + x**3 - 2*x**2 + 2\n",
    "r = nroots(p, n=12)\n",
    "mod_z = sum(abs(np.array(r)))\n",
    "max_z = max(r, key=lambda x: re(x))\n",
    "mod_z, re(max_z)"
   ]
  },
  {
   "cell_type": "markdown",
   "id": "83461934-6068-4128-a6ee-b87d59fcf3ee",
   "metadata": {
    "jp-MarkdownHeadingCollapsed": true
   },
   "source": [
    "### Собственные значения и вектора матрицы "
   ]
  },
  {
   "cell_type": "code",
   "execution_count": 170,
   "id": "9c291b64-a7a5-4075-95b6-88e04033ef3a",
   "metadata": {},
   "outputs": [
    {
     "data": {
      "image/png": "[encoded data removed]",
      "text/latex": [
       "$\\displaystyle \\lambda^{3} - 56 \\lambda^{2} + 79 \\lambda - 384$"
      ],
      "text/plain": [
       " 3       2             \n",
       "λ  - 56⋅λ  + 79⋅λ - 384"
      ]
     },
     "execution_count": 170,
     "metadata": {},
     "output_type": "execute_result"
    }
   ],
   "source": [
    "A = np.array([\n",
    "    [24,28,20],\n",
    "    [15,21,12],\n",
    "    [10,25,11]\n",
    "])\n",
    "\n",
    "factor(Matrix(A).charpoly().as_expr())"
   ]
  },
  {
   "cell_type": "code",
   "execution_count": 190,
   "id": "8ea9d5a8-f914-4c27-acf6-5efbd83ed8fb",
   "metadata": {},
   "outputs": [
    {
     "data": {
      "image/png": "[encoded data removed]",
      "text/latex": [
       "$\\displaystyle \\left( 2.56691724462564, \\  0.0224581369746911\\right)$"
      ],
      "text/plain": [
       "(2.56691724462564, 0.0224581369746911)"
      ]
     },
     "execution_count": 190,
     "metadata": {},
     "output_type": "execute_result"
    }
   ],
   "source": [
    "vals, vects = np.linalg.eig(A)\n",
    "ind = np.argmax(vals.imag)\n",
    "z = vals[ind]\n",
    "x = vects[:, ind]\n",
    "u = x[1]/x[0]\n",
    "\n",
    "im(z), re(u)"
   ]
  },
  {
   "cell_type": "markdown",
   "id": "3b7b9ab2-1593-4509-9f4e-942219f81703",
   "metadata": {},
   "source": [
    "### Матрицы больших размеров"
   ]
  },
  {
   "cell_type": "markdown",
   "id": "b5793b13-cf9b-43cb-a9f4-35efb6609f4a",
   "metadata": {
    "jp-MarkdownHeadingCollapsed": true
   },
   "source": [
    "#### Арифметическая прогрессия"
   ]
  },
  {
   "cell_type": "code",
   "execution_count": 269,
   "id": "fdd0cf24-0625-49c1-ab96-948c4691d475",
   "metadata": {},
   "outputs": [
    {
     "name": "stdout",
     "output_type": "stream",
     "text": [
      "След A.inv(): 70003.500\n",
      "det(A): 0.197\n"
     ]
    }
   ],
   "source": [
    "a11, ann, a12, a21, n, d, i = symbols(\"a11, ann, a12, a21, n, d, i\")\n",
    "\n",
    "def f(i, j):\n",
    "    if i == j:\n",
    "        return a11 + d * j\n",
    "    else:\n",
    "        if i == 0 and j == 1:\n",
    "            return a12\n",
    "        if i == 1 and j == 0:\n",
    "            return a21\n",
    "        else:\n",
    "            return 0\n",
    "\n",
    "A = Matrix(10,10,f)\n",
    "B = A.inv()\n",
    "\n",
    "S = Sum(1/(a11 + i*d), (i,2,n-1))\n",
    "trace = (2*a11 + d)/(a11**2 + a11*d - a12*a21) + S\n",
    "print(f\"След A.inv(): {N(trace.subs([(n, 70000), (a11, 0.99), (ann, 1.01), (a12, 0.46), (a21, 0.78), (d, (1.01-0.99)/(70000-1))]),8)}\")\n",
    "\n",
    "P = Product(a11 + i*d, (i,2,n-1))\n",
    "det = expand(a11*(a11+d) - a12*a21) * P\n",
    "print(f\"det(A): {N(det.subs([(n, 70000), (a11, 0.99), (ann, 1.01), (a12, 0.46), (a21, 0.78), (d, (1.01-0.99)/(70000-1))]),3)}\")"
   ]
  },
  {
   "cell_type": "markdown",
   "id": "4a1faa30-c66d-48b9-bc9b-bb0900d3f3e3",
   "metadata": {
    "jp-MarkdownHeadingCollapsed": true
   },
   "source": [
    "#### Геометрическая прогрессия"
   ]
  },
  {
   "cell_type": "code",
   "execution_count": 315,
   "id": "afd5f84b-ef98-43ba-8ad5-914f91c7ceb2",
   "metadata": {},
   "outputs": [
    {
     "data": {
      "image/png": "[encoded data removed]",
      "text/latex": [
       "$\\displaystyle \\left( -1.07339449541494, \\  -3209.83170358397\\right)$"
      ],
      "text/plain": [
       "(-1.0733944954149406, -3209.831703583972)"
      ]
     },
     "execution_count": 315,
     "metadata": {},
     "output_type": "execute_result"
    }
   ],
   "source": [
    "a11, q, d = symbols(\"a11, q, d\")\n",
    "\n",
    "def f(i, j):\n",
    "    if i == j:\n",
    "        return a11*q**i\n",
    "    else:\n",
    "        if i == 0:\n",
    "            return a11 + j*d\n",
    "        else:\n",
    "            return 0\n",
    "        \n",
    "\n",
    "A = Matrix(5,5,f)\n",
    "B = A.inv()\n",
    "\n",
    "n = 40000\n",
    "a11 = 1\n",
    "ann = 1.09\n",
    "a1n = 1.17\n",
    "d = (a1n - a11) / (n-1)\n",
    "q = (ann / a11) ** (1 / (n-1))\n",
    "B1i = [1 / a11]\n",
    "Bii = [1 / a11]\n",
    "for i in range(2, n+1):\n",
    "    B1i.append((-a11-(i-1)*d) / (a11**2 * q**(i-1)))\n",
    "    Bii.append(1/(a11 * q**(i-1)))\n",
    "\n",
    "\n",
    "min(min(B1i), min(Bii)), sum(B1i) + sum(Bii) - (1/a11)"
   ]
  }
 ],
 "metadata": {
  "kernelspec": {
   "display_name": "Python 3 (ipykernel)",
   "language": "python",
   "name": "python3"
  },
  "language_info": {
   "codemirror_mode": {
    "name": "ipython",
    "version": 3
   },
   "file_extension": ".py",
   "mimetype": "text/x-python",
   "name": "python",
   "nbconvert_exporter": "python",
   "pygments_lexer": "ipython3",
   "version": "3.12.4"
  }
 },
 "nbformat": 4,
 "nbformat_minor": 5
}
